{
    "nbformat_minor": 1, 
    "cells": [
        {
            "source": "# @hidden_cell\n# The project token is an authorization token that is used to access project resources like data sources, connections, and used by platform APIs.\nfrom project_lib import Project\nproject = Project(project_id='5087c809-2d0f-4122-abba-10edc810a992', project_access_token='p-b218032c490e8cac19331025d443051efe2253fd')\npc = project.project_context\n", 
            "cell_type": "code", 
            "metadata": {}, 
            "outputs": [], 
            "execution_count": 1
        }, 
        {
            "source": "import numpy as np \nimport sklearn as sk \nfrom project_lib import Project", 
            "cell_type": "code", 
            "metadata": {}, 
            "outputs": [], 
            "execution_count": 2
        }, 
        {
            "source": "project.get_storage_metadata()", 
            "cell_type": "code", 
            "metadata": {}, 
            "outputs": [
                {
                    "output_type": "execute_result", 
                    "data": {
                        "text/plain": "{'guid': '0e699c57-a350-4fbc-8697-3234bcbfd213',\n 'properties': {'bucket_name': 'test-donotdelete-pr-1akk7ntpiyd1zt',\n  'bucket_region': 'eu-geo',\n  'credentials': {'editor': {'access_key_id': '388918ba695a44808febf351955f8f6d',\n    'api_key': 'j_m_wqyokRyzz9TLXj7ziIZNZePuLMYVMRQXP_3AFApc',\n    'resource_key_crn': 'crn:v1:bluemix:public:cloud-object-storage:global:a/15d32310e6819dde886c0bb998cd9358:0e699c57-a350-4fbc-8697-3234bcbfd213:resource-key:388918ba-695a-4480-8feb-f351955f8f6d',\n    'secret_access_key': '9d58e2b9d76e3036eaefc32eacfb0d55e85bdd06a0961c8c',\n    'service_id': 'iam-ServiceId-935b8aa5-26ac-430b-9d10-b79ebaaaeb55'},\n   'viewer': {'access_key_id': '1c096511ecc4451bae775f42e108f33c',\n    'api_key': 'PmyXx2Efy55b09lwZt3b6PeOgfA413fbKRYyv41nBE8r',\n    'resource_key_crn': 'crn:v1:bluemix:public:cloud-object-storage:global:a/15d32310e6819dde886c0bb998cd9358:0e699c57-a350-4fbc-8697-3234bcbfd213:resource-key:1c096511-ecc4-451b-ae77-5f42e108f33c',\n    'secret_access_key': '7531832bc9281e82714bdf99dd5407f7e0e61fb0a3a80653',\n    'service_id': 'iam-ServiceId-ee693aea-1d4e-4a27-b490-b9d30076be68'}},\n  'endpoint_url': 'https://s3.eu-geo.objectstorage.softlayer.net'},\n 'type': 'bmcos_object_storage'}"
                    }, 
                    "execution_count": 3, 
                    "metadata": {}
                }
            ], 
            "execution_count": 3
        }, 
        {
            "source": "project.get_name()", 
            "cell_type": "code", 
            "metadata": {}, 
            "outputs": [
                {
                    "output_type": "execute_result", 
                    "data": {
                        "text/plain": "'FakeNewsDemo'"
                    }, 
                    "execution_count": 4, 
                    "metadata": {}
                }
            ], 
            "execution_count": 4
        }, 
        {
            "source": "project.get_connections()", 
            "cell_type": "code", 
            "metadata": {}, 
            "outputs": [
                {
                    "output_type": "execute_result", 
                    "data": {
                        "text/plain": "[]"
                    }, 
                    "execution_count": 5, 
                    "metadata": {}
                }
            ], 
            "execution_count": 5
        }, 
        {
            "source": "", 
            "cell_type": "code", 
            "metadata": {}, 
            "outputs": [], 
            "execution_count": null
        }, 
        {
            "source": "", 
            "cell_type": "code", 
            "metadata": {}, 
            "outputs": [], 
            "execution_count": null
        }
    ], 
    "metadata": {
        "kernelspec": {
            "display_name": "Python 3.5", 
            "name": "python3", 
            "language": "python"
        }, 
        "language_info": {
            "mimetype": "text/x-python", 
            "nbconvert_exporter": "python", 
            "version": "3.5.4", 
            "name": "python", 
            "file_extension": ".py", 
            "pygments_lexer": "ipython3", 
            "codemirror_mode": {
                "version": 3, 
                "name": "ipython"
            }
        }
    }, 
    "nbformat": 4
}